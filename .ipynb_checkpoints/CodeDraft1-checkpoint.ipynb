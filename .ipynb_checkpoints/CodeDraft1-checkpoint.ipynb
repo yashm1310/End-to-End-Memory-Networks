{
 "cells": [
  {
   "cell_type": "markdown",
   "metadata": {},
   "source": [
    "<center>\n",
    "    <img src=\"images/logo.png\" style=\"width:507px;height:147px;\">\n",
    "</center>\n",
    "\n",
    "## AI Mini Project \n",
    "### Group Members:\n",
    "    1. Hrishikesh Mahajan [PC-45]\n",
    "    2. Viraj Pandit       [PC-50]\n",
    "    3. Ujala Pathak       [PC-51]\n",
    "    4. Yash Mangukiya     [PC-52]  "
   ]
  },
  {
   "cell_type": "markdown",
   "metadata": {},
   "source": [
    "## Topic: End to End Memory Network\n",
    "### The project will be an implementation of the following paper: <a href=\"https://arxiv.org/pdf/1503.08895.pdf\">End to End Memory Networks\n",
    "</a>"
   ]
  },
  {
   "cell_type": "markdown",
   "metadata": {},
   "source": [
    "## Summary:\n",
    "We will be implementing a AI bot that can answer questions based on a story that is given to the bot.\n",
    "<pre>\n",
    "<b>Example:</b>\n",
    "    Story: Betty went to the store. Don ran to the bedroom.\n",
    "    Question: Is Don in the store?\n",
    "    Answer: No\n",
    "<b>Explanation:</b>\n",
    "    Here the model understood that Don did not go to the store and answers accordingly. \n",
    "    If the model is asked another question such as \"Is Don in the bedroom?\" and now the \n",
    "    answer will be <b>yes</b>.\n",
    "<b>Dataset Used:</b> <a href=\"https://research.fb.com/downloads/babi/\">babi - Facebook Research</a>\n",
    "</pre>"
   ]
  },
  {
   "cell_type": "markdown",
   "metadata": {},
   "source": [
    "## How the Bot works:\n",
    "<ul>\n",
    "<li>\n",
    "   Model takes a discreet set of inputs <b>x1, ..., xn</b>(Sentences) that are to be stored in the memory, a query <b>q</b>(Question), and outputs an answer <b>a</b>(Yes/No). \n",
    "</li>\n",
    "\n",
    "<li>\n",
    "   Each of the <b>x, q and a</b> contains symbols that come from a dictionary with <b>V</b> words.\n",
    "</li>\n",
    "\n",
    "<li>\n",
    "   The model writes all <b>x</b> to the memory up to a fixed buffer size, and then finds a continous representation for the <b>x and q</b>.\n",
    "</li>\n",
    "</ul>"
   ]
  },
  {
   "cell_type": "markdown",
   "metadata": {},
   "source": [
    "## Model Architecture\n",
    "<center>\n",
    "<img src=\"images/arch.png\">\n",
    "</center>\n",
    "\n",
    "### Single memory hop:\n",
    "Concentrating on the left part of the image. A set of sentences <b>x1, x2,..., xn</b> is fed to the network, these sentences are from the story provided to the network. The sentences are converted into two identical memory vector representations namely <b>mi and ci</b>.<br>\n",
    "(For a quick refresher in word embeddings <a href=\"https://machinelearningmastery.com/what-are-word-embeddings/\">click here</a>)\n",
    "\n",
    "The question is also converted into a word embedding giving a result u, the word vectors mi and transpose of u are multiplied and passed through the softmax function to form the vector pi.\n",
    "\n",
    "<center>\n",
    "<img src=\"images/utpi.png\">\n",
    "<img src=\"images/softmax.png\">\n",
    "</center>\n",
    "\n",
    "Now this resulting pi vector is multiplied with ci vector to give o.\n",
    "\n",
    "<center>\n",
    "<img src=\"images/o.png\">\n",
    "</center>\n",
    "\n",
    "Finally we will pass this vector through the softmax function and get a probability vector that will assign probabilities to all the words in the vocabulary but only the probabilites of the words yes or no will be high.\n",
    "\n",
    "<center>\n",
    "<img src=\"images/final_mh.png\">\n",
    "</center>\n",
    "<br>\n",
    "<br>\n",
    "\n",
    "### Mulitple Layers\n",
    "The above architecture explanation was for one memory hop, this process is repeated multiple times with the output of one memory hop becoming the input of the second memory hop. The sentences (x1,x2,...,xn) remain the same. For illustration refer right half of the diagram."
   ]
  },
  {
   "cell_type": "markdown",
   "metadata": {},
   "source": [
    "### Part 1\n",
    "For part 1 we shall follow the following steps...\n",
    "<ul>\n",
    "    <li>Load the Data</li>\n",
    "    <li>Explore the Data Format</li>\n",
    "    <li>Create a Vocabulary</li>\n",
    "</ul>"
   ]
  },
  {
   "cell_type": "code",
   "execution_count": 1,
   "metadata": {},
   "outputs": [],
   "source": [
    "import pickle\n",
    "import numpy as np"
   ]
  },
  {
   "cell_type": "code",
   "execution_count": 2,
   "metadata": {},
   "outputs": [],
   "source": [
    "with open('Data/train_qa.txt', 'rb') as f:\n",
    "    train_data = pickle.load(f)"
   ]
  },
  {
   "cell_type": "code",
   "execution_count": 3,
   "metadata": {},
   "outputs": [],
   "source": [
    "with open('Data/test_qa.txt', 'rb') as f:\n",
    "    test_data = pickle.load(f)"
   ]
  },
  {
   "cell_type": "code",
   "execution_count": 4,
   "metadata": {},
   "outputs": [
    {
     "name": "stdout",
     "output_type": "stream",
     "text": [
      "Type of Training data: <class 'list'>\n",
      "Length of Training data: 10000\n",
      "Type of Test data: <class 'list'>\n",
      "Length of Test data: 1000\n"
     ]
    }
   ],
   "source": [
    "print(f'Type of Training data: {type(train_data)}')\n",
    "print(f'Length of Training data: {len(train_data)}')\n",
    "print(f'Type of Test data: {type(test_data)}')\n",
    "print(f'Length of Test data: {len(test_data)}')"
   ]
  },
  {
   "cell_type": "code",
   "execution_count": 5,
   "metadata": {},
   "outputs": [
    {
     "data": {
      "text/plain": [
       "(['Mary',\n",
       "  'moved',\n",
       "  'to',\n",
       "  'the',\n",
       "  'bathroom',\n",
       "  '.',\n",
       "  'Sandra',\n",
       "  'journeyed',\n",
       "  'to',\n",
       "  'the',\n",
       "  'bedroom',\n",
       "  '.'],\n",
       " ['Is', 'Sandra', 'in', 'the', 'hallway', '?'],\n",
       " 'no')"
      ]
     },
     "execution_count": 5,
     "metadata": {},
     "output_type": "execute_result"
    }
   ],
   "source": [
    "train_data[0]"
   ]
  },
  {
   "cell_type": "code",
   "execution_count": 13,
   "metadata": {},
   "outputs": [
    {
     "name": "stdout",
     "output_type": "stream",
     "text": [
      "Story   :Mary moved to the bathroom . Sandra journeyed to the bedroom .\n",
      "Question:Is Sandra in the hallway ?\n",
      "Answer  :no\n"
     ]
    }
   ],
   "source": [
    "print(\"Story   :\", end='')\n",
    "print(' '.join(train_data[0][0]))\n",
    "print(\"Question:\", end = '')\n",
    "print(' '.join(train_data[0][1]))\n",
    "print(\"Answer  :\", end = '')\n",
    "print(train_data[0][2])"
   ]
  },
  {
   "cell_type": "code",
   "execution_count": 10,
   "metadata": {},
   "outputs": [],
   "source": [
    "total_data = test_data + train_data"
   ]
  },
  {
   "cell_type": "code",
   "execution_count": 14,
   "metadata": {},
   "outputs": [],
   "source": [
    "vocab = set()\n",
    "\n",
    "for story, question, answer in total_data:\n",
    "    vocab = vocab.union(set(story))\n",
    "    vocab = vocab.union(set(question))\n",
    "    \n",
    "vocab.add('yes')\n",
    "vocab.add('no')"
   ]
  },
  {
   "cell_type": "code",
   "execution_count": 15,
   "metadata": {},
   "outputs": [
    {
     "data": {
      "text/plain": [
       "{'.',\n",
       " '?',\n",
       " 'Daniel',\n",
       " 'Is',\n",
       " 'John',\n",
       " 'Mary',\n",
       " 'Sandra',\n",
       " 'apple',\n",
       " 'back',\n",
       " 'bathroom',\n",
       " 'bedroom',\n",
       " 'discarded',\n",
       " 'down',\n",
       " 'dropped',\n",
       " 'football',\n",
       " 'garden',\n",
       " 'got',\n",
       " 'grabbed',\n",
       " 'hallway',\n",
       " 'in',\n",
       " 'journeyed',\n",
       " 'kitchen',\n",
       " 'left',\n",
       " 'milk',\n",
       " 'moved',\n",
       " 'no',\n",
       " 'office',\n",
       " 'picked',\n",
       " 'put',\n",
       " 'the',\n",
       " 'there',\n",
       " 'to',\n",
       " 'took',\n",
       " 'travelled',\n",
       " 'up',\n",
       " 'went',\n",
       " 'yes'}"
      ]
     },
     "execution_count": 15,
     "metadata": {},
     "output_type": "execute_result"
    }
   ],
   "source": [
    "vocab"
   ]
  },
  {
   "cell_type": "code",
   "execution_count": 16,
   "metadata": {},
   "outputs": [],
   "source": [
    "vocab_len = len(vocab) + 1"
   ]
  },
  {
   "cell_type": "code",
   "execution_count": 17,
   "metadata": {},
   "outputs": [
    {
     "data": {
      "text/plain": [
       "38"
      ]
     },
     "execution_count": 17,
     "metadata": {},
     "output_type": "execute_result"
    }
   ],
   "source": [
    "vocab_len"
   ]
  },
  {
   "cell_type": "code",
   "execution_count": 20,
   "metadata": {},
   "outputs": [],
   "source": [
    "# Finding out the longest story length and the longest question length\n",
    "max_story_len = max([len(data[0]) for data in total_data])\n",
    "max_question_len = max([len(data[1]) for data in total_data])"
   ]
  },
  {
   "cell_type": "code",
   "execution_count": 21,
   "metadata": {},
   "outputs": [
    {
     "data": {
      "text/plain": [
       "156"
      ]
     },
     "execution_count": 21,
     "metadata": {},
     "output_type": "execute_result"
    }
   ],
   "source": [
    "max_story_len"
   ]
  },
  {
   "cell_type": "code",
   "execution_count": 22,
   "metadata": {},
   "outputs": [
    {
     "data": {
      "text/plain": [
       "6"
      ]
     },
     "execution_count": 22,
     "metadata": {},
     "output_type": "execute_result"
    }
   ],
   "source": [
    "max_question_len"
   ]
  },
  {
   "cell_type": "markdown",
   "metadata": {},
   "source": [
    "### Part 2\n",
    "For part 2 we shall follow the following steps...\n",
    "<ul>\n",
    "    <li>Explore steps for vectorizing data</li>\n",
    "    <li>Create function for vectorizing data</li>\n",
    "</ul>"
   ]
  },
  {
   "cell_type": "code",
   "execution_count": 24,
   "metadata": {},
   "outputs": [],
   "source": [
    "from keras.preprocessing.sequence import pad_sequences\n",
    "from keras.preprocessing.text import Tokenizer"
   ]
  },
  {
   "cell_type": "code",
   "execution_count": 26,
   "metadata": {},
   "outputs": [],
   "source": [
    "tokenizer = Tokenizer(filters = [])\n",
    "tokenizer.fit_on_texts(vocab)"
   ]
  },
  {
   "cell_type": "code",
   "execution_count": 27,
   "metadata": {},
   "outputs": [
    {
     "data": {
      "text/plain": [
       "{'discarded': 1,\n",
       " 'went': 2,\n",
       " 'kitchen': 3,\n",
       " 'sandra': 4,\n",
       " 'yes': 5,\n",
       " 'down': 6,\n",
       " 'bathroom': 7,\n",
       " 'milk': 8,\n",
       " 'to': 9,\n",
       " 'john': 10,\n",
       " 'the': 11,\n",
       " 'hallway': 12,\n",
       " 'up': 13,\n",
       " 'picked': 14,\n",
       " 'bedroom': 15,\n",
       " 'no': 16,\n",
       " 'football': 17,\n",
       " 'dropped': 18,\n",
       " 'moved': 19,\n",
       " 'apple': 20,\n",
       " '?': 21,\n",
       " 'daniel': 22,\n",
       " 'journeyed': 23,\n",
       " 'in': 24,\n",
       " 'there': 25,\n",
       " 'mary': 26,\n",
       " 'took': 27,\n",
       " 'travelled': 28,\n",
       " 'back': 29,\n",
       " 'put': 30,\n",
       " '.': 31,\n",
       " 'grabbed': 32,\n",
       " 'left': 33,\n",
       " 'is': 34,\n",
       " 'office': 35,\n",
       " 'garden': 36,\n",
       " 'got': 37}"
      ]
     },
     "execution_count": 27,
     "metadata": {},
     "output_type": "execute_result"
    }
   ],
   "source": [
    "tokenizer.word_index"
   ]
  },
  {
   "cell_type": "code",
   "execution_count": 28,
   "metadata": {},
   "outputs": [],
   "source": [
    "train_story_text = []\n",
    "train_question_text = []\n",
    "train_answers = []\n",
    "\n",
    "for story, question, answer in train_data:\n",
    "    train_story_text.append(story)\n",
    "    train_question_text.append(question)\n",
    "    train_answers.append(answer)"
   ]
  },
  {
   "cell_type": "code",
   "execution_count": 29,
   "metadata": {},
   "outputs": [],
   "source": [
    "train_story_seq = tokenizer.texts_to_sequences(train_story_text)"
   ]
  },
  {
   "cell_type": "code",
   "execution_count": 30,
   "metadata": {},
   "outputs": [],
   "source": [
    "def vectorize_stories(data, word_index = tokenizer.word_index, max_story_length=max_story_len, max_question_length=max_question_len):\n",
    "    #Stories\n",
    "    X = []\n",
    "    #Question\n",
    "    Xq = []\n",
    "    #Correct Answer (yes/no)\n",
    "    Y = []\n",
    "    \n",
    "    for story, query, answer in data:\n",
    "        \n",
    "        #for every story\n",
    "        x = [word_index[word.lower()] for word in story]\n",
    "        xq = [word_index[word.lower()] for word in query]\n",
    "        \n",
    "        y = np.zeros(len(word_index)+1)\n",
    "        \n",
    "        y[word_index[answer]] = 1\n",
    "        \n",
    "        X.append(x)\n",
    "        Xq.append(xq)\n",
    "        Y.append(y)\n",
    "        \n",
    "    return (pad_sequences(X,maxlen = max_story_len), pad_sequences(Xq, maxlen=max_question_len), np.array(Y))"
   ]
  },
  {
   "cell_type": "code",
   "execution_count": 31,
   "metadata": {},
   "outputs": [],
   "source": [
    "inputs_train, queries_train, answer_train = vectorize_stories(train_data)\n",
    "inputs_test, queries_test, answer_test = vectorize_stories(test_data)"
   ]
  },
  {
   "cell_type": "code",
   "execution_count": 34,
   "metadata": {},
   "outputs": [
    {
     "data": {
      "text/plain": [
       "array([   0.,    0.,    0.,    0.,    0., 5012.,    0.,    0.,    0.,\n",
       "          0.,    0.,    0.,    0.,    0.,    0.,    0., 4988.,    0.,\n",
       "          0.,    0.,    0.,    0.,    0.,    0.,    0.,    0.,    0.,\n",
       "          0.,    0.,    0.,    0.,    0.,    0.,    0.,    0.,    0.,\n",
       "          0.,    0.])"
      ]
     },
     "execution_count": 34,
     "metadata": {},
     "output_type": "execute_result"
    }
   ],
   "source": [
    "# This tells us that there are 5012 yes questions and 4988 no question\n",
    "sum(answer_train)"
   ]
  },
  {
   "cell_type": "markdown",
   "metadata": {},
   "source": [
    "### Part 3\n",
    "For part 3 we shall follow the following steps...\n",
    "<ul>\n",
    "    <li>Build input encoder M</li>\n",
    "    <li>Build input encoder C</li>\n",
    "    <li>Build question encoder</li>\n",
    "    <li>Complete the network</li>\n",
    "</ul>"
   ]
  },
  {
   "cell_type": "code",
   "execution_count": 36,
   "metadata": {},
   "outputs": [],
   "source": [
    "from keras.models import Sequential, Model\n",
    "from keras.layers.embeddings import Embedding\n",
    "from keras.layers import Input, Activation, Dense, Permute, Dropout, add, dot, concatenate, LSTM"
   ]
  },
  {
   "cell_type": "code",
   "execution_count": 37,
   "metadata": {},
   "outputs": [],
   "source": [
    "#Placeholder shape=(max_story_len, batch_size)\n",
    "input_sequence = Input((max_story_len,))\n",
    "question = Input((max_question_len,))"
   ]
  },
  {
   "cell_type": "code",
   "execution_count": 38,
   "metadata": {},
   "outputs": [],
   "source": [
    "vocab_size = len(vocab) + 1"
   ]
  },
  {
   "cell_type": "code",
   "execution_count": 40,
   "metadata": {},
   "outputs": [],
   "source": [
    "# Input encoder M \n",
    "input_encoder_m = Sequential()\n",
    "input_encoder_m.add(Embedding(input_dim=vocab_size, output_dim=64))\n",
    "input_encoder_m.add(Dropout(0.3))\n",
    "#Output => (samples, story_max_len, embedding_dim)"
   ]
  },
  {
   "cell_type": "code",
   "execution_count": 41,
   "metadata": {},
   "outputs": [],
   "source": [
    "# Input encoder C \n",
    "input_encoder_c = Sequential()\n",
    "input_encoder_c.add(Embedding(input_dim=vocab_size, output_dim=max_question_len))\n",
    "input_encoder_c.add(Dropout(0.3))\n",
    "\n",
    "#Output => (samples, story_max_len, max_question_len)"
   ]
  },
  {
   "cell_type": "code",
   "execution_count": 42,
   "metadata": {},
   "outputs": [],
   "source": [
    "# Input encoder C \n",
    "question_encoder = Sequential()\n",
    "question_encoder.add(Embedding(input_dim=vocab_size, output_dim=64, input_length=max_question_len))\n",
    "question_encoder.add(Dropout(0.3))\n",
    "\n",
    "#Output => (samples, question_max_len, embedding_dim)"
   ]
  },
  {
   "cell_type": "code",
   "execution_count": 43,
   "metadata": {},
   "outputs": [],
   "source": [
    "input_encoded_m = input_encoder_m(input_sequence)\n",
    "input_encoded_c = input_encoder_c(input_sequence)\n",
    "question_encoded = question_encoder(question)"
   ]
  },
  {
   "cell_type": "code",
   "execution_count": 44,
   "metadata": {},
   "outputs": [],
   "source": [
    "match = dot([input_encoded_m, question_encoded], axes = (2,2))\n",
    "match = Activation('softmax')(match)"
   ]
  },
  {
   "cell_type": "code",
   "execution_count": 46,
   "metadata": {},
   "outputs": [],
   "source": [
    "response = add([match, input_encoded_c])\n",
    "response = Permute((2,1))(response)"
   ]
  },
  {
   "cell_type": "code",
   "execution_count": 48,
   "metadata": {},
   "outputs": [],
   "source": [
    "answer = concatenate([response, question_encoded])"
   ]
  },
  {
   "cell_type": "code",
   "execution_count": 49,
   "metadata": {},
   "outputs": [
    {
     "data": {
      "text/plain": [
       "<tf.Tensor 'concatenate_2/concat:0' shape=(?, 6, 220) dtype=float32>"
      ]
     },
     "execution_count": 49,
     "metadata": {},
     "output_type": "execute_result"
    }
   ],
   "source": [
    "answer"
   ]
  },
  {
   "cell_type": "code",
   "execution_count": 50,
   "metadata": {},
   "outputs": [],
   "source": [
    "answer = LSTM(32)(answer)"
   ]
  },
  {
   "cell_type": "code",
   "execution_count": 51,
   "metadata": {},
   "outputs": [],
   "source": [
    "answer = Dropout(0.5)(answer) #Regularize more making sure we do not overfit\n",
    "answer = Dense(vocab_size)(answer)"
   ]
  },
  {
   "cell_type": "code",
   "execution_count": 52,
   "metadata": {},
   "outputs": [],
   "source": [
    "answer = Activation('softmax')(answer)"
   ]
  },
  {
   "cell_type": "code",
   "execution_count": 53,
   "metadata": {},
   "outputs": [],
   "source": [
    "model = Model([input_sequence,question], answer)"
   ]
  },
  {
   "cell_type": "code",
   "execution_count": 54,
   "metadata": {},
   "outputs": [],
   "source": [
    "model.compile(optimizer='rmsprop', loss='categorical_crossentropy', metrics = ['accuracy'])"
   ]
  },
  {
   "cell_type": "code",
   "execution_count": 55,
   "metadata": {},
   "outputs": [
    {
     "name": "stdout",
     "output_type": "stream",
     "text": [
      "__________________________________________________________________________________________________\n",
      "Layer (type)                    Output Shape         Param #     Connected to                     \n",
      "==================================================================================================\n",
      "input_1 (InputLayer)            (None, 156)          0                                            \n",
      "__________________________________________________________________________________________________\n",
      "input_2 (InputLayer)            (None, 6)            0                                            \n",
      "__________________________________________________________________________________________________\n",
      "sequential_2 (Sequential)       multiple             2432        input_1[0][0]                    \n",
      "__________________________________________________________________________________________________\n",
      "sequential_4 (Sequential)       (None, 6, 64)        2432        input_2[0][0]                    \n",
      "__________________________________________________________________________________________________\n",
      "dot_1 (Dot)                     (None, 156, 6)       0           sequential_2[1][0]               \n",
      "                                                                 sequential_4[1][0]               \n",
      "__________________________________________________________________________________________________\n",
      "activation_1 (Activation)       (None, 156, 6)       0           dot_1[0][0]                      \n",
      "__________________________________________________________________________________________________\n",
      "sequential_3 (Sequential)       multiple             228         input_1[0][0]                    \n",
      "__________________________________________________________________________________________________\n",
      "add_2 (Add)                     (None, 156, 6)       0           activation_1[0][0]               \n",
      "                                                                 sequential_3[1][0]               \n",
      "__________________________________________________________________________________________________\n",
      "permute_2 (Permute)             (None, 6, 156)       0           add_2[0][0]                      \n",
      "__________________________________________________________________________________________________\n",
      "concatenate_2 (Concatenate)     (None, 6, 220)       0           permute_2[0][0]                  \n",
      "                                                                 sequential_4[1][0]               \n",
      "__________________________________________________________________________________________________\n",
      "lstm_1 (LSTM)                   (None, 32)           32384       concatenate_2[0][0]              \n",
      "__________________________________________________________________________________________________\n",
      "dropout_5 (Dropout)             (None, 32)           0           lstm_1[0][0]                     \n",
      "__________________________________________________________________________________________________\n",
      "dense_1 (Dense)                 (None, 38)           1254        dropout_5[0][0]                  \n",
      "__________________________________________________________________________________________________\n",
      "activation_2 (Activation)       (None, 38)           0           dense_1[0][0]                    \n",
      "==================================================================================================\n",
      "Total params: 38,730\n",
      "Trainable params: 38,730\n",
      "Non-trainable params: 0\n",
      "__________________________________________________________________________________________________\n"
     ]
    }
   ],
   "source": [
    "model.summary()"
   ]
  },
  {
   "cell_type": "markdown",
   "metadata": {},
   "source": [
    "### Part 4\n",
    "For part 4 we shall follow the following steps...\n",
    "<ul>\n",
    "    <li>Train the network</li>\n",
    "    <li>Plot training history</li>\n",
    "    <li>Evaluate on test set</li>\n",
    "    <li>Create own stories and questions</li>\n",
    "</ul>"
   ]
  },
  {
   "cell_type": "code",
   "execution_count": 56,
   "metadata": {},
   "outputs": [
    {
     "name": "stdout",
     "output_type": "stream",
     "text": [
      "WARNING:tensorflow:From /home/hrishikesh/anaconda3/envs/nlp/lib/python3.7/site-packages/tensorflow/python/ops/math_ops.py:3066: to_int32 (from tensorflow.python.ops.math_ops) is deprecated and will be removed in a future version.\n",
      "Instructions for updating:\n",
      "Use tf.cast instead.\n",
      "WARNING:tensorflow:From /home/hrishikesh/anaconda3/envs/nlp/lib/python3.7/site-packages/tensorflow/python/ops/math_grad.py:102: div (from tensorflow.python.ops.math_ops) is deprecated and will be removed in a future version.\n",
      "Instructions for updating:\n",
      "Deprecated in favor of operator or tf.math.divide.\n",
      "Train on 10000 samples, validate on 1000 samples\n",
      "Epoch 1/100\n",
      "10000/10000 [==============================] - 9s 871us/step - loss: 0.9353 - acc: 0.4935 - val_loss: 0.6952 - val_acc: 0.4970\n",
      "Epoch 2/100\n",
      "10000/10000 [==============================] - 6s 620us/step - loss: 0.7081 - acc: 0.4985 - val_loss: 0.6965 - val_acc: 0.5030\n",
      "Epoch 3/100\n",
      "10000/10000 [==============================] - 6s 627us/step - loss: 0.6968 - acc: 0.5015 - val_loss: 0.6932 - val_acc: 0.4970\n",
      "Epoch 4/100\n",
      "10000/10000 [==============================] - 6s 627us/step - loss: 0.6952 - acc: 0.5028 - val_loss: 0.6939 - val_acc: 0.5030\n",
      "Epoch 5/100\n",
      "10000/10000 [==============================] - 7s 689us/step - loss: 0.6957 - acc: 0.4986 - val_loss: 0.6987 - val_acc: 0.4970\n",
      "Epoch 6/100\n",
      "10000/10000 [==============================] - 7s 655us/step - loss: 0.6953 - acc: 0.5008 - val_loss: 0.6945 - val_acc: 0.4970\n",
      "Epoch 7/100\n",
      "10000/10000 [==============================] - 7s 674us/step - loss: 0.6950 - acc: 0.4909 - val_loss: 0.6939 - val_acc: 0.4970\n",
      "Epoch 8/100\n",
      "10000/10000 [==============================] - 7s 678us/step - loss: 0.6950 - acc: 0.4934 - val_loss: 0.6932 - val_acc: 0.4920\n",
      "Epoch 9/100\n",
      "10000/10000 [==============================] - 7s 679us/step - loss: 0.6949 - acc: 0.4973 - val_loss: 0.6947 - val_acc: 0.4970\n",
      "Epoch 10/100\n",
      "10000/10000 [==============================] - 7s 662us/step - loss: 0.6952 - acc: 0.4919 - val_loss: 0.6946 - val_acc: 0.4970\n",
      "Epoch 11/100\n",
      "10000/10000 [==============================] - 6s 643us/step - loss: 0.6940 - acc: 0.5014 - val_loss: 0.6932 - val_acc: 0.5010\n",
      "Epoch 12/100\n",
      "10000/10000 [==============================] - 6s 640us/step - loss: 0.6949 - acc: 0.4974 - val_loss: 0.6931 - val_acc: 0.5030\n",
      "Epoch 13/100\n",
      "10000/10000 [==============================] - 6s 643us/step - loss: 0.6945 - acc: 0.5054 - val_loss: 0.6933 - val_acc: 0.5030\n",
      "Epoch 14/100\n",
      "10000/10000 [==============================] - 6s 645us/step - loss: 0.6946 - acc: 0.5004 - val_loss: 0.6952 - val_acc: 0.4970\n",
      "Epoch 15/100\n",
      "10000/10000 [==============================] - 7s 688us/step - loss: 0.6942 - acc: 0.5049 - val_loss: 0.6977 - val_acc: 0.4970\n",
      "Epoch 16/100\n",
      "10000/10000 [==============================] - 6s 617us/step - loss: 0.6945 - acc: 0.5068 - val_loss: 0.6931 - val_acc: 0.4970\n",
      "Epoch 17/100\n",
      "10000/10000 [==============================] - 6s 649us/step - loss: 0.6837 - acc: 0.5494 - val_loss: 0.6642 - val_acc: 0.5840\n",
      "Epoch 18/100\n",
      "10000/10000 [==============================] - 6s 638us/step - loss: 0.6550 - acc: 0.6089 - val_loss: 0.6336 - val_acc: 0.6800\n",
      "Epoch 19/100\n",
      "10000/10000 [==============================] - 7s 665us/step - loss: 0.6184 - acc: 0.6560 - val_loss: 0.5805 - val_acc: 0.7140\n",
      "Epoch 20/100\n",
      "10000/10000 [==============================] - 7s 663us/step - loss: 0.5788 - acc: 0.7039 - val_loss: 0.5318 - val_acc: 0.7590\n",
      "Epoch 21/100\n",
      "10000/10000 [==============================] - 7s 650us/step - loss: 0.5352 - acc: 0.7384 - val_loss: 0.4807 - val_acc: 0.7900\n",
      "Epoch 22/100\n",
      "10000/10000 [==============================] - 6s 638us/step - loss: 0.4973 - acc: 0.7747 - val_loss: 0.4564 - val_acc: 0.8200\n",
      "Epoch 23/100\n",
      "10000/10000 [==============================] - 7s 685us/step - loss: 0.4636 - acc: 0.7954 - val_loss: 0.4226 - val_acc: 0.8100\n",
      "Epoch 24/100\n",
      "10000/10000 [==============================] - 7s 693us/step - loss: 0.4419 - acc: 0.8112 - val_loss: 0.3980 - val_acc: 0.8290\n",
      "Epoch 25/100\n",
      "10000/10000 [==============================] - 7s 677us/step - loss: 0.4256 - acc: 0.8198 - val_loss: 0.4066 - val_acc: 0.8180\n",
      "Epoch 26/100\n",
      "10000/10000 [==============================] - 7s 690us/step - loss: 0.4066 - acc: 0.8297 - val_loss: 0.3909 - val_acc: 0.8210\n",
      "Epoch 27/100\n",
      "10000/10000 [==============================] - 7s 690us/step - loss: 0.3961 - acc: 0.8361 - val_loss: 0.3861 - val_acc: 0.8330\n",
      "Epoch 28/100\n",
      "10000/10000 [==============================] - 7s 698us/step - loss: 0.3908 - acc: 0.8418 - val_loss: 0.3854 - val_acc: 0.8390\n",
      "Epoch 29/100\n",
      "10000/10000 [==============================] - 7s 688us/step - loss: 0.3733 - acc: 0.8468 - val_loss: 0.3787 - val_acc: 0.8250\n",
      "Epoch 30/100\n",
      "10000/10000 [==============================] - 7s 702us/step - loss: 0.3689 - acc: 0.8485 - val_loss: 0.3849 - val_acc: 0.8350\n",
      "Epoch 31/100\n",
      "10000/10000 [==============================] - 7s 696us/step - loss: 0.3645 - acc: 0.8481 - val_loss: 0.3933 - val_acc: 0.8390\n",
      "Epoch 32/100\n",
      "10000/10000 [==============================] - 7s 692us/step - loss: 0.3581 - acc: 0.8507 - val_loss: 0.3650 - val_acc: 0.8360\n",
      "Epoch 33/100\n",
      "10000/10000 [==============================] - 8s 795us/step - loss: 0.3505 - acc: 0.8505 - val_loss: 0.3691 - val_acc: 0.8290\n",
      "Epoch 34/100\n",
      "10000/10000 [==============================] - 7s 729us/step - loss: 0.3449 - acc: 0.8534 - val_loss: 0.3673 - val_acc: 0.8360\n",
      "Epoch 35/100\n",
      "10000/10000 [==============================] - 7s 719us/step - loss: 0.3404 - acc: 0.8569 - val_loss: 0.3633 - val_acc: 0.8430\n",
      "Epoch 36/100\n",
      "10000/10000 [==============================] - 7s 712us/step - loss: 0.3391 - acc: 0.8600 - val_loss: 0.3667 - val_acc: 0.8390\n",
      "Epoch 37/100\n",
      "10000/10000 [==============================] - 7s 710us/step - loss: 0.3329 - acc: 0.8596 - val_loss: 0.3651 - val_acc: 0.8360\n",
      "Epoch 38/100\n",
      "10000/10000 [==============================] - 7s 712us/step - loss: 0.3296 - acc: 0.8572 - val_loss: 0.3678 - val_acc: 0.8260\n",
      "Epoch 39/100\n",
      "10000/10000 [==============================] - 7s 727us/step - loss: 0.3269 - acc: 0.8619 - val_loss: 0.3774 - val_acc: 0.8270\n",
      "Epoch 40/100\n",
      "10000/10000 [==============================] - 7s 726us/step - loss: 0.3218 - acc: 0.8596 - val_loss: 0.3591 - val_acc: 0.8300\n",
      "Epoch 41/100\n",
      "10000/10000 [==============================] - 7s 711us/step - loss: 0.3239 - acc: 0.8577 - val_loss: 0.3643 - val_acc: 0.8400\n",
      "Epoch 42/100\n",
      "10000/10000 [==============================] - 7s 724us/step - loss: 0.3215 - acc: 0.8578 - val_loss: 0.3513 - val_acc: 0.8380\n",
      "Epoch 43/100\n",
      "10000/10000 [==============================] - 7s 723us/step - loss: 0.3145 - acc: 0.8636 - val_loss: 0.3663 - val_acc: 0.8370\n",
      "Epoch 44/100\n",
      "10000/10000 [==============================] - 7s 718us/step - loss: 0.3143 - acc: 0.8655 - val_loss: 0.3686 - val_acc: 0.8380\n",
      "Epoch 45/100\n",
      "10000/10000 [==============================] - 7s 735us/step - loss: 0.3154 - acc: 0.8640 - val_loss: 0.3522 - val_acc: 0.8320\n",
      "Epoch 46/100\n",
      "10000/10000 [==============================] - 7s 684us/step - loss: 0.3124 - acc: 0.8677 - val_loss: 0.3610 - val_acc: 0.8330\n",
      "Epoch 47/100\n",
      "10000/10000 [==============================] - 7s 705us/step - loss: 0.3165 - acc: 0.8675 - val_loss: 0.3519 - val_acc: 0.8330\n",
      "Epoch 48/100\n",
      "10000/10000 [==============================] - 7s 690us/step - loss: 0.3063 - acc: 0.8646 - val_loss: 0.3552 - val_acc: 0.8360\n",
      "Epoch 49/100\n",
      "10000/10000 [==============================] - 7s 689us/step - loss: 0.3135 - acc: 0.8670 - val_loss: 0.3489 - val_acc: 0.8390\n",
      "Epoch 50/100\n",
      "10000/10000 [==============================] - 7s 698us/step - loss: 0.3079 - acc: 0.8677 - val_loss: 0.3481 - val_acc: 0.8340\n",
      "Epoch 51/100\n",
      "10000/10000 [==============================] - 7s 691us/step - loss: 0.3093 - acc: 0.8645 - val_loss: 0.3623 - val_acc: 0.8270\n",
      "Epoch 52/100\n",
      "10000/10000 [==============================] - 7s 682us/step - loss: 0.3042 - acc: 0.8639 - val_loss: 0.3655 - val_acc: 0.8350\n",
      "Epoch 53/100\n",
      "10000/10000 [==============================] - 7s 688us/step - loss: 0.3050 - acc: 0.8677 - val_loss: 0.3555 - val_acc: 0.8310\n",
      "Epoch 54/100\n",
      "10000/10000 [==============================] - 7s 732us/step - loss: 0.3024 - acc: 0.8694 - val_loss: 0.3553 - val_acc: 0.8350\n",
      "Epoch 55/100\n"
     ]
    },
    {
     "name": "stdout",
     "output_type": "stream",
     "text": [
      "10000/10000 [==============================] - 7s 668us/step - loss: 0.3016 - acc: 0.8633 - val_loss: 0.3502 - val_acc: 0.8400\n",
      "Epoch 56/100\n",
      "10000/10000 [==============================] - 6s 639us/step - loss: 0.3010 - acc: 0.8643 - val_loss: 0.3447 - val_acc: 0.8380\n",
      "Epoch 57/100\n",
      "10000/10000 [==============================] - 6s 613us/step - loss: 0.2964 - acc: 0.8692 - val_loss: 0.3549 - val_acc: 0.8370\n",
      "Epoch 58/100\n",
      "10000/10000 [==============================] - 6s 612us/step - loss: 0.3022 - acc: 0.8684 - val_loss: 0.3510 - val_acc: 0.8410\n",
      "Epoch 59/100\n",
      "10000/10000 [==============================] - 6s 611us/step - loss: 0.2968 - acc: 0.8721 - val_loss: 0.3499 - val_acc: 0.8320\n",
      "Epoch 60/100\n",
      "10000/10000 [==============================] - 6s 620us/step - loss: 0.2956 - acc: 0.8712 - val_loss: 0.3540 - val_acc: 0.8320\n",
      "Epoch 61/100\n",
      "10000/10000 [==============================] - 6s 616us/step - loss: 0.2919 - acc: 0.8716 - val_loss: 0.3510 - val_acc: 0.8390\n",
      "Epoch 62/100\n",
      "10000/10000 [==============================] - 6s 620us/step - loss: 0.2963 - acc: 0.8705 - val_loss: 0.3528 - val_acc: 0.8330\n",
      "Epoch 63/100\n",
      "10000/10000 [==============================] - 7s 681us/step - loss: 0.2935 - acc: 0.8694 - val_loss: 0.3545 - val_acc: 0.8340\n",
      "Epoch 64/100\n",
      "10000/10000 [==============================] - 7s 668us/step - loss: 0.2957 - acc: 0.8688 - val_loss: 0.3660 - val_acc: 0.8350\n",
      "Epoch 65/100\n",
      "10000/10000 [==============================] - 7s 655us/step - loss: 0.2946 - acc: 0.8734 - val_loss: 0.3586 - val_acc: 0.8320\n",
      "Epoch 66/100\n",
      "10000/10000 [==============================] - 7s 661us/step - loss: 0.2924 - acc: 0.8728 - val_loss: 0.3682 - val_acc: 0.8340\n",
      "Epoch 67/100\n",
      "10000/10000 [==============================] - 7s 662us/step - loss: 0.2914 - acc: 0.8725 - val_loss: 0.3479 - val_acc: 0.8430\n",
      "Epoch 68/100\n",
      "10000/10000 [==============================] - 7s 656us/step - loss: 0.2930 - acc: 0.8769 - val_loss: 0.3596 - val_acc: 0.8300\n",
      "Epoch 69/100\n",
      "10000/10000 [==============================] - 7s 661us/step - loss: 0.2918 - acc: 0.8721 - val_loss: 0.3499 - val_acc: 0.8410\n",
      "Epoch 70/100\n",
      "10000/10000 [==============================] - 7s 658us/step - loss: 0.2871 - acc: 0.8762 - val_loss: 0.3571 - val_acc: 0.8310\n",
      "Epoch 71/100\n",
      "10000/10000 [==============================] - 7s 659us/step - loss: 0.2855 - acc: 0.8785 - val_loss: 0.3496 - val_acc: 0.8340\n",
      "Epoch 72/100\n",
      "10000/10000 [==============================] - 7s 665us/step - loss: 0.2899 - acc: 0.8724 - val_loss: 0.3544 - val_acc: 0.8330\n",
      "Epoch 73/100\n",
      "10000/10000 [==============================] - 7s 664us/step - loss: 0.2859 - acc: 0.8760 - val_loss: 0.3411 - val_acc: 0.8410\n",
      "Epoch 74/100\n",
      "10000/10000 [==============================] - 7s 720us/step - loss: 0.2887 - acc: 0.8730 - val_loss: 0.3537 - val_acc: 0.8290\n",
      "Epoch 75/100\n",
      "10000/10000 [==============================] - 7s 732us/step - loss: 0.2852 - acc: 0.8776 - val_loss: 0.3589 - val_acc: 0.8450\n",
      "Epoch 76/100\n",
      "10000/10000 [==============================] - 7s 739us/step - loss: 0.2873 - acc: 0.8736 - val_loss: 0.3593 - val_acc: 0.8280\n",
      "Epoch 77/100\n",
      "10000/10000 [==============================] - 7s 734us/step - loss: 0.2835 - acc: 0.8770 - val_loss: 0.3763 - val_acc: 0.8380\n",
      "Epoch 78/100\n",
      "10000/10000 [==============================] - 7s 719us/step - loss: 0.2842 - acc: 0.8775 - val_loss: 0.3720 - val_acc: 0.8340\n",
      "Epoch 79/100\n",
      "10000/10000 [==============================] - 7s 731us/step - loss: 0.2838 - acc: 0.8770 - val_loss: 0.3591 - val_acc: 0.8410\n",
      "Epoch 80/100\n",
      "10000/10000 [==============================] - 7s 730us/step - loss: 0.2806 - acc: 0.8791 - val_loss: 0.3697 - val_acc: 0.8350\n",
      "Epoch 81/100\n",
      "10000/10000 [==============================] - 7s 668us/step - loss: 0.2835 - acc: 0.8780 - val_loss: 0.3474 - val_acc: 0.8320\n",
      "Epoch 82/100\n",
      "10000/10000 [==============================] - 7s 673us/step - loss: 0.2771 - acc: 0.8794 - val_loss: 0.3458 - val_acc: 0.8360\n",
      "Epoch 83/100\n",
      "10000/10000 [==============================] - 7s 677us/step - loss: 0.2804 - acc: 0.8782 - val_loss: 0.3470 - val_acc: 0.8380\n",
      "Epoch 84/100\n",
      "10000/10000 [==============================] - 7s 705us/step - loss: 0.2828 - acc: 0.8770 - val_loss: 0.3634 - val_acc: 0.8340\n",
      "Epoch 85/100\n",
      "10000/10000 [==============================] - 7s 664us/step - loss: 0.2745 - acc: 0.8780 - val_loss: 0.3510 - val_acc: 0.8400\n",
      "Epoch 86/100\n",
      "10000/10000 [==============================] - 7s 670us/step - loss: 0.2770 - acc: 0.8813 - val_loss: 0.3529 - val_acc: 0.8350\n",
      "Epoch 87/100\n",
      "10000/10000 [==============================] - 7s 662us/step - loss: 0.2764 - acc: 0.8789 - val_loss: 0.3456 - val_acc: 0.8390\n",
      "Epoch 88/100\n",
      "10000/10000 [==============================] - 7s 664us/step - loss: 0.2752 - acc: 0.8814 - val_loss: 0.3555 - val_acc: 0.8380\n",
      "Epoch 89/100\n",
      "10000/10000 [==============================] - 7s 738us/step - loss: 0.2746 - acc: 0.8798 - val_loss: 0.3759 - val_acc: 0.8350\n",
      "Epoch 90/100\n",
      "10000/10000 [==============================] - 7s 699us/step - loss: 0.2746 - acc: 0.8811 - val_loss: 0.3581 - val_acc: 0.8340\n",
      "Epoch 91/100\n",
      "10000/10000 [==============================] - 7s 673us/step - loss: 0.2738 - acc: 0.8835 - val_loss: 0.3681 - val_acc: 0.8270\n",
      "Epoch 92/100\n",
      "10000/10000 [==============================] - 7s 663us/step - loss: 0.2727 - acc: 0.8823 - val_loss: 0.3738 - val_acc: 0.8270\n",
      "Epoch 93/100\n",
      "10000/10000 [==============================] - 7s 669us/step - loss: 0.2733 - acc: 0.8826 - val_loss: 0.3587 - val_acc: 0.8400\n",
      "Epoch 94/100\n",
      "10000/10000 [==============================] - 7s 671us/step - loss: 0.2769 - acc: 0.8807 - val_loss: 0.3610 - val_acc: 0.8330\n",
      "Epoch 95/100\n",
      "10000/10000 [==============================] - 7s 666us/step - loss: 0.2667 - acc: 0.8838 - val_loss: 0.3635 - val_acc: 0.8330\n",
      "Epoch 96/100\n",
      "10000/10000 [==============================] - 7s 680us/step - loss: 0.2676 - acc: 0.8813 - val_loss: 0.3675 - val_acc: 0.8260\n",
      "Epoch 97/100\n",
      "10000/10000 [==============================] - 7s 676us/step - loss: 0.2746 - acc: 0.8824 - val_loss: 0.3663 - val_acc: 0.8340\n",
      "Epoch 98/100\n",
      "10000/10000 [==============================] - 7s 675us/step - loss: 0.2685 - acc: 0.8867 - val_loss: 0.3770 - val_acc: 0.8360\n",
      "Epoch 99/100\n",
      "10000/10000 [==============================] - 7s 666us/step - loss: 0.2702 - acc: 0.8848 - val_loss: 0.3681 - val_acc: 0.8350\n",
      "Epoch 100/100\n",
      "10000/10000 [==============================] - 7s 678us/step - loss: 0.2717 - acc: 0.8869 - val_loss: 0.3602 - val_acc: 0.8330\n"
     ]
    }
   ],
   "source": [
    "history = model.fit([inputs_train, queries_train], answer_train, batch_size=32, epochs = 100, validation_data=([inputs_test, queries_test], answer_test))"
   ]
  },
  {
   "cell_type": "code",
   "execution_count": 57,
   "metadata": {},
   "outputs": [],
   "source": [
    "model.save('ai_mini_project.h5')"
   ]
  },
  {
   "cell_type": "code",
   "execution_count": 58,
   "metadata": {},
   "outputs": [
    {
     "name": "stdout",
     "output_type": "stream",
     "text": [
      "dict_keys(['val_loss', 'val_acc', 'loss', 'acc'])\n"
     ]
    },
    {
     "data": {
      "image/png": "[encoded data removed]",
      "text/plain": [
       "<Figure size 432x288 with 1 Axes>"
      ]
     },
     "metadata": {
      "needs_background": "light"
     },
     "output_type": "display_data"
    }
   ],
   "source": [
    "import matplotlib.pyplot as plt\n",
    "print(history.history.keys())\n",
    "plt.plot(history.history['acc'])\n",
    "plt.plot(history.history['val_acc'])\n",
    "plt.title('Model Accuracy')\n",
    "plt.ylabel('accuracy')\n",
    "plt.xlabel('epoch')\n",
    "plt.legend(['train', 'test'], loc = 'upper left')\n",
    "plt.show()"
   ]
  },
  {
   "cell_type": "code",
   "execution_count": 59,
   "metadata": {},
   "outputs": [],
   "source": [
    "model.load_weights('ai_mini_project.h5')"
   ]
  },
  {
   "cell_type": "code",
   "execution_count": 60,
   "metadata": {},
   "outputs": [],
   "source": [
    "pred_results = model.predict(([inputs_test, queries_test]))"
   ]
  },
  {
   "cell_type": "code",
   "execution_count": 61,
   "metadata": {
    "scrolled": true
   },
   "outputs": [
    {
     "data": {
      "text/plain": [
       "['Mary',\n",
       " 'got',\n",
       " 'the',\n",
       " 'milk',\n",
       " 'there',\n",
       " '.',\n",
       " 'John',\n",
       " 'moved',\n",
       " 'to',\n",
       " 'the',\n",
       " 'bedroom',\n",
       " '.']"
      ]
     },
     "execution_count": 61,
     "metadata": {},
     "output_type": "execute_result"
    }
   ],
   "source": [
    "test_data[0][0]"
   ]
  },
  {
   "cell_type": "code",
   "execution_count": 69,
   "metadata": {},
   "outputs": [
    {
     "data": {
      "text/plain": [
       "['Is', 'John', 'in', 'the', 'kitchen', '?']"
      ]
     },
     "execution_count": 69,
     "metadata": {},
     "output_type": "execute_result"
    }
   ],
   "source": [
    "test_data[0][1]"
   ]
  },
  {
   "cell_type": "code",
   "execution_count": 70,
   "metadata": {},
   "outputs": [
    {
     "data": {
      "text/plain": [
       "'no'"
      ]
     },
     "execution_count": 70,
     "metadata": {},
     "output_type": "execute_result"
    }
   ],
   "source": [
    "test_data[0][2]"
   ]
  },
  {
   "cell_type": "code",
   "execution_count": 62,
   "metadata": {},
   "outputs": [
    {
     "data": {
      "text/plain": [
       "array([1.5435188e-16, 1.8180089e-16, 1.7184418e-16, 1.5580775e-16,\n",
       "       1.7991331e-16, 5.1128914e-05, 1.5090290e-16, 1.7919959e-16,\n",
       "       1.8574832e-16, 1.8944585e-16, 1.4364199e-16, 1.6182727e-16,\n",
       "       1.7461559e-16, 1.7147222e-16, 1.6514686e-16, 1.9627019e-16,\n",
       "       9.9994886e-01, 1.5730495e-16, 1.8097748e-16, 1.4479454e-16,\n",
       "       1.9666665e-16, 1.9481709e-16, 1.7623906e-16, 1.7104825e-16,\n",
       "       1.7825667e-16, 1.7100714e-16, 1.7391228e-16, 1.9117875e-16,\n",
       "       1.8231898e-16, 1.6572368e-16, 1.6814732e-16, 1.9301438e-16,\n",
       "       1.7146504e-16, 1.6850627e-16, 1.5371317e-16, 1.6568449e-16,\n",
       "       1.8461313e-16, 1.5296152e-16], dtype=float32)"
      ]
     },
     "execution_count": 62,
     "metadata": {},
     "output_type": "execute_result"
    }
   ],
   "source": [
    "pred_results[0]"
   ]
  },
  {
   "cell_type": "code",
   "execution_count": 65,
   "metadata": {},
   "outputs": [],
   "source": [
    "val_max = np.argmax(pred_results[0])"
   ]
  },
  {
   "cell_type": "code",
   "execution_count": 71,
   "metadata": {},
   "outputs": [],
   "source": [
    "for key, val in tokenizer.word_index.items():\n",
    "    if val == val_max:\n",
    "        k = key"
   ]
  },
  {
   "cell_type": "code",
   "execution_count": 72,
   "metadata": {},
   "outputs": [
    {
     "data": {
      "text/plain": [
       "'no'"
      ]
     },
     "execution_count": 72,
     "metadata": {},
     "output_type": "execute_result"
    }
   ],
   "source": [
    "k"
   ]
  },
  {
   "cell_type": "code",
   "execution_count": 73,
   "metadata": {},
   "outputs": [],
   "source": [
    "my_story = \"John left the kitchen . Sandra dropped the football in the garden .\""
   ]
  },
  {
   "cell_type": "code",
   "execution_count": 74,
   "metadata": {},
   "outputs": [
    {
     "data": {
      "text/plain": [
       "['John',\n",
       " 'left',\n",
       " 'the',\n",
       " 'kitchen',\n",
       " '.',\n",
       " 'Sandra',\n",
       " 'dropped',\n",
       " 'the',\n",
       " 'football',\n",
       " 'in',\n",
       " 'the',\n",
       " 'garden',\n",
       " '.']"
      ]
     },
     "execution_count": 74,
     "metadata": {},
     "output_type": "execute_result"
    }
   ],
   "source": [
    "my_story.split()"
   ]
  },
  {
   "cell_type": "code",
   "execution_count": 75,
   "metadata": {},
   "outputs": [],
   "source": [
    "my_query = \"Is the football in the garden ?\""
   ]
  },
  {
   "cell_type": "code",
   "execution_count": 76,
   "metadata": {},
   "outputs": [],
   "source": [
    "my_data = [(my_story.split(), my_query.split(), 'yes')]"
   ]
  },
  {
   "cell_type": "code",
   "execution_count": 77,
   "metadata": {},
   "outputs": [
    {
     "data": {
      "text/plain": [
       "[(['John',\n",
       "   'left',\n",
       "   'the',\n",
       "   'kitchen',\n",
       "   '.',\n",
       "   'Sandra',\n",
       "   'dropped',\n",
       "   'the',\n",
       "   'football',\n",
       "   'in',\n",
       "   'the',\n",
       "   'garden',\n",
       "   '.'],\n",
       "  ['Is', 'the', 'football', 'in', 'the', 'garden', '?'],\n",
       "  'yes')]"
      ]
     },
     "execution_count": 77,
     "metadata": {},
     "output_type": "execute_result"
    }
   ],
   "source": [
    "my_data"
   ]
  },
  {
   "cell_type": "code",
   "execution_count": 78,
   "metadata": {},
   "outputs": [],
   "source": [
    "my_story, my_ques, my_ans = vectorize_stories(my_data)"
   ]
  },
  {
   "cell_type": "code",
   "execution_count": 80,
   "metadata": {},
   "outputs": [],
   "source": [
    "pred_results = model.predict(([my_story, my_ques]))"
   ]
  },
  {
   "cell_type": "code",
   "execution_count": 81,
   "metadata": {},
   "outputs": [
    {
     "data": {
      "text/plain": [
       "'yes'"
      ]
     },
     "execution_count": 81,
     "metadata": {},
     "output_type": "execute_result"
    }
   ],
   "source": [
    "val_max = np.argmax(pred_results)\n",
    "for key, val in tokenizer.word_index.items():\n",
    "    if val == val_max:\n",
    "        k = key\n",
    "k        "
   ]
  },
  {
   "cell_type": "code",
   "execution_count": 82,
   "metadata": {},
   "outputs": [
    {
     "data": {
      "text/plain": [
       "0.99109155"
      ]
     },
     "execution_count": 82,
     "metadata": {},
     "output_type": "execute_result"
    }
   ],
   "source": [
    "pred_results[0][val_max]"
   ]
  },
  {
   "cell_type": "code",
   "execution_count": null,
   "metadata": {},
   "outputs": [],
   "source": []
  }
 ],
 "metadata": {
  "kernelspec": {
   "display_name": "Python 3",
   "language": "python",
   "name": "python3"
  },
  "language_info": {
   "codemirror_mode": {
    "name": "ipython",
    "version": 3
   },
   "file_extension": ".py",
   "mimetype": "text/x-python",
   "name": "python",
   "nbconvert_exporter": "python",
   "pygments_lexer": "ipython3",
   "version": "3.7.7"
  }
 },
 "nbformat": 4,
 "nbformat_minor": 4
}
